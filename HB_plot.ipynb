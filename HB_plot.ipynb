{
 "cells": [
  {
   "cell_type": "code",
   "execution_count": null,
   "id": "f15ca39b",
   "metadata": {},
   "outputs": [],
   "source": [
    "import numpy as np\n",
    "import matplotlib.pyplot as plt\n",
    "from HB_lattice import *\n",
    "\n",
    "# g_factor is important only if Zeeman term will be included\n",
    "latt = HB_lattice(g_factor = 2)"
   ]
  },
  {
   "cell_type": "code",
   "execution_count": null,
   "id": "91901184",
   "metadata": {},
   "outputs": [],
   "source": [
    "# lattice can be created via two methods: \n",
    "# create_lattice ('triangular, square, honeycomb') or create_custom_lattice using csv file\n",
    "latt.create_lattice('square', 1, 10)\n",
    "# latt.create_custom_lattice(\"coords.csv\") \n",
    "latt.plot_lattice()"
   ]
  },
  {
   "cell_type": "code",
   "execution_count": null,
   "id": "b6d5a099",
   "metadata": {},
   "outputs": [],
   "source": [
    "#eigenvalues can be calculated using two methods:\n",
    "# eigenvalues_via_hopping(t, t_so, b, add_peierls, add_zeeman)\n",
    "# eigenvalues_via_interpolation(a_params, b_params, add_peierls, add_zeeman) t_ij = a_param * exp ( - r_ij / b_param)\n",
    "\n",
    "eigvals = []\n",
    "b_field = np.linspace(0, 41.3, 20)\n",
    "for b in b_field:\n",
    "    w = latt.eigenvalues_via_hopping([-0.01], [0], b, add_peierls=True, add_zeeman=True)\n",
    "    eigvals.append(w)\n",
    "    \n",
    "# eigvals = latt.eigenvalues_via_interpolation(-0.092, 9.2, 0, add_peierls=True, add_zeeman=True)"
   ]
  },
  {
   "cell_type": "code",
   "execution_count": null,
   "id": "ab4a606b",
   "metadata": {},
   "outputs": [],
   "source": [
    "#plot_dos to plot densities of states\n",
    "energy_range = np.linspace(-0.05, 0.05, 1000)\n",
    "dos = latt.plot_dos(energy_range, eigvals[0], smear=0.001)\n",
    "\n",
    "fig = plt.figure(figsize=(6,4))\n",
    "plt.plot(energy_range, dos, color='Blue', linewidth=1)\n",
    "plt.xlim(energy_range[0], energy_range[-1])\n",
    "plt.xlabel(\"Energy (eV)\")\n",
    "plt.ylabel(\"DOS\")\n",
    "fig.savefig('DOS.png', dpi=300, facecolor='w', transparent=False, bbox_inches='tight')"
   ]
  },
  {
   "cell_type": "code",
   "execution_count": null,
   "id": "e82ecca9",
   "metadata": {},
   "outputs": [],
   "source": [
    "fig = plt.figure(figsize=(5,4))\n",
    "plt.plot(b_field, eigvals, color='Blue', linewidth=1)\n",
    "plt.xlim(b_field[0], b_field[-1])\n",
    "plt.xlabel(\"Magnetic field (T)\")\n",
    "plt.ylabel(\"Energy (eV)\")\n",
    "plt.title(\"Eigenvalues\")\n",
    "fig.savefig('Eigenvalues.png', dpi=300, facecolor='w', transparent=False, bbox_inches='tight')"
   ]
  },
  {
   "cell_type": "code",
   "execution_count": null,
   "id": "0dbd9f46",
   "metadata": {},
   "outputs": [],
   "source": []
  }
 ],
 "metadata": {
  "kernelspec": {
   "display_name": "base",
   "language": "python",
   "name": "python3"
  },
  "language_info": {
   "codemirror_mode": {
    "name": "ipython",
    "version": 3
   },
   "file_extension": ".py",
   "mimetype": "text/x-python",
   "name": "python",
   "nbconvert_exporter": "python",
   "pygments_lexer": "ipython3",
   "version": "3.10.15"
  }
 },
 "nbformat": 4,
 "nbformat_minor": 5
}

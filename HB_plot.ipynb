{
 "cells": [
  {
   "cell_type": "code",
   "execution_count": null,
   "metadata": {},
   "outputs": [],
   "source": [
    "from HB_lattice import *\n",
    "\n",
    "latt = HB_lattice(parallel=False)\n",
    "latt.create_lattice('square', 2, 10)\n",
    "# latt.create_custom_lattice(\"coords.csv\") "
   ]
  },
  {
   "cell_type": "code",
   "execution_count": null,
   "metadata": {},
   "outputs": [],
   "source": [
    "#ham_type = \"hopping\":\n",
    "#t = [0.1, 0.01, ...]\n",
    "#t_so = [0.01, ...]\n",
    "\n",
    "#ham_type = \"interpolation\":\n",
    "# a_param = 1\n",
    "# b_param = 10\n",
    "\n",
    "latt.plot_hofstadter(41.3, 200, g_factor=0, ham_type='hopping')"
   ]
  },
  {
   "cell_type": "code",
   "execution_count": null,
   "metadata": {},
   "outputs": [],
   "source": [
    "latt.plot_dos([0, 20.8], e_min=-0.3, e_max=0.3, smear=0.001)"
   ]
  },
  {
   "cell_type": "code",
   "execution_count": null,
   "metadata": {},
   "outputs": [],
   "source": [
    "latt.plot_map(b_value=20.8, num_eigvecs=[0, 1], smear=40)"
   ]
  },
  {
   "cell_type": "code",
   "execution_count": null,
   "metadata": {},
   "outputs": [],
   "source": []
  }
 ],
 "metadata": {
  "kernelspec": {
   "display_name": "base",
   "language": "python",
   "name": "python3"
  },
  "language_info": {
   "codemirror_mode": {
    "name": "ipython",
    "version": 3
   },
   "file_extension": ".py",
   "mimetype": "text/x-python",
   "name": "python",
   "nbconvert_exporter": "python",
   "pygments_lexer": "ipython3",
   "version": "3.10.15"
  }
 },
 "nbformat": 4,
 "nbformat_minor": 2
}

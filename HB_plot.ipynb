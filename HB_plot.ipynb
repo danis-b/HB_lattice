{
 "cells": [
  {
   "cell_type": "code",
   "execution_count": null,
   "id": "f15ca39b",
   "metadata": {},
   "outputs": [],
   "source": [
    "import numpy as np\n",
    "import matplotlib.pyplot as plt\n",
    "from HB_lattice import *\n",
    "\n",
    "latt = HB_lattice(g_factor = 30)"
   ]
  },
  {
   "cell_type": "code",
   "execution_count": null,
   "id": "91901184",
   "metadata": {},
   "outputs": [],
   "source": [
    "latt.create_lattice('square', 2, 18)\n",
    "# latt.create_custom_lattice(\"coords.csv\") \n",
    "latt.plot_lattice()"
   ]
  },
  {
   "cell_type": "code",
   "execution_count": null,
   "id": "b6d5a099",
   "metadata": {},
   "outputs": [],
   "source": [
    "eigvals = []\n",
    "b_field = np.linspace(0, 13, 100)\n",
    "for b in b_field:\n",
    "    w = latt.calculate_eigenvalues([-0.01], [0], b, add_peierls=True, add_zeeman=True)\n",
    "    eigvals.append(w)\n"
   ]
  },
  {
   "cell_type": "code",
   "execution_count": null,
   "id": "ab4a606b",
   "metadata": {},
   "outputs": [],
   "source": [
    "energy_range = np.linspace(-0.04, 0.04, 1000)\n",
    "dos = latt.plot_dos(energy_range, eigvals[0], 0.0001)\n",
    "\n",
    "fig = plt.figure(figsize=(6,4))\n",
    "plt.plot(energy_range, dos, color='Blue', linewidth=1)\n",
    "plt.xlim(energy_range[0], energy_range[-1])\n",
    "plt.xlabel(\"Magnetic field (T)\")\n",
    "plt.ylabel(\"Energy (eV)\")\n",
    "fig.savefig('DOS.png', dpi=300, facecolor='w', transparent=False, bbox_inches='tight')\n"
   ]
  },
  {
   "cell_type": "code",
   "execution_count": null,
   "id": "e82ecca9",
   "metadata": {},
   "outputs": [],
   "source": [
    "fig = plt.figure(figsize=(6,4))\n",
    "plt.plot(b_field, eigvals, color='Blue', linewidth=1)\n",
    "plt.xlim(b_field[0], b_field[-1])\n",
    "plt.xlabel(\"Magnetic field (T)\")\n",
    "plt.ylabel(\"Energy (eV)\")\n",
    "fig.savefig('Eigenvalues.png', dpi=300, facecolor='w', transparent=False, bbox_inches='tight')"
   ]
  }
 ],
 "metadata": {
  "kernelspec": {
   "display_name": "base",
   "language": "python",
   "name": "python3"
  },
  "language_info": {
   "codemirror_mode": {
    "name": "ipython",
    "version": 3
   },
   "file_extension": ".py",
   "mimetype": "text/x-python",
   "name": "python",
   "nbconvert_exporter": "python",
   "pygments_lexer": "ipython3",
   "version": "3.10.15"
  }
 },
 "nbformat": 4,
 "nbformat_minor": 5
}

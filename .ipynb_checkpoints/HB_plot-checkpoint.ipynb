{
 "cells": [
  {
   "cell_type": "code",
   "execution_count": null,
   "id": "f15ca39b",
   "metadata": {},
   "outputs": [],
   "source": [
    "from HB_lattice import *\n",
    "    \n",
    "HB = HB_lattice(n = 2, t_nn = -0.01, t_soc = 0, t_nnn = 0, \n",
    "                lattice_spacing = 18, g_factor = 30, Bmax = 13);   "
   ]
  },
  {
   "cell_type": "code",
   "execution_count": null,
   "id": "07b1bf76",
   "metadata": {},
   "outputs": [],
   "source": [
    "HB.num_map = [0, 1]\n",
    "HB.B_map = 0\n",
    "HB.mapRes = 250\n",
    "HB.smearing = 100\n",
    "HB.plot_map()"
   ]
  },
  {
   "cell_type": "code",
   "execution_count": null,
   "id": "bc109503",
   "metadata": {},
   "outputs": [],
   "source": []
  }
 ],
 "metadata": {
  "kernelspec": {
   "display_name": "Python 3 (ipykernel)",
   "language": "python",
   "name": "python3"
  },
  "language_info": {
   "codemirror_mode": {
    "name": "ipython",
    "version": 3
   },
   "file_extension": ".py",
   "mimetype": "text/x-python",
   "name": "python",
   "nbconvert_exporter": "python",
   "pygments_lexer": "ipython3",
   "version": "3.10.11"
  }
 },
 "nbformat": 4,
 "nbformat_minor": 5
}
